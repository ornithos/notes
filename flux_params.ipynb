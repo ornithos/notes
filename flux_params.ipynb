{
 "cells": [
  {
   "cell_type": "markdown",
   "metadata": {},
   "source": [
    "## what does the command 'params' do?\n",
    "Consider the fragment:\n",
    "```julia\n",
    "pars = params(Chain(...), other_flux_param);\n",
    "```\n",
    "\n",
    "How do we interpret what is going on here? Let's dig into Flux's code. I've slightly re-formatted it and added some notes below.\n",
    "\n",
    "-----------------------\n",
    "```julia\n",
    "function prefor(f, x; seen = IdSet())      # IdSet is flux specific Set data structure, comparison on object-id\n",
    "    x ∈ seen && return\n",
    "    # Call f recursively on x (using the tree defined by the children of x).\n",
    "    f(x)\n",
    "    foreach(x -> prefor(f, x, seen = seen), children(x))\n",
    "    return\n",
    "end\n",
    "\n",
    "function params(m)\n",
    "    ps = []\n",
    "    function do_things(p)\n",
    "        if Tracker.istracked(p) &&\n",
    "            Tracker.isleaf(p) &&  \n",
    "            !any(p′ -> p′ === p, ps) \n",
    "            push!(ps, p)  \n",
    "        end\n",
    "    end\n",
    "    prefor(do_things, m)\n",
    "    return ps\n",
    "end\n",
    "\n",
    "params(m...) = params(m)\n",
    "```\n",
    "--------------------\n",
    "\n",
    "So, here's what happens. `params(...)` takes an arbitrary number of arguments and slurps them into a tuple. The function then initialises an empty array as `ps` and performs the following operation the following function on the tuple:\n",
    "```julia\n",
    "if Tracker.istracked(p) &&    # ensure parameter is wrapped with Tracker\n",
    "    Tracker.isleaf(p) &&      # ... and does not depend on anything else (no children)\n",
    "    !any(p′ -> p′ === p, ps)  # ... and is not already contained in ps\n",
    "    push!(ps, p)              # [THEN] add to list of parameters.\n",
    "end\n",
    "```\n",
    "i.e., check it's tracked and doesn't actually depend on something else (which is the real parameter), and doesn't already exist. This is important as it allows us to pass in objects such as `Chain`s, which `params` can strip out the relevant parameters recursively. If it is indeed a parameter, then it gets pushed onto `ps`. As annotated above, `prefor` is simply a recursive version of `foreach`, recursing via the children of a tuple. (The tree structure is simply defined as tuples of tuples etc. .)"
   ]
  },
  {
   "cell_type": "markdown",
   "metadata": {},
   "source": [
    "## Moving towards more fine grained control of parameters.\n",
    "\n",
    "I frequently want to switch gradient learning of parameters off during optimisation, and currently have to manually set gradients to zero. The below are my first steps towards a cleaner interface.\n",
    "\n",
    "Unfortunately since `param`s are not objects (structs), it is not easy to obtain their name, and so comparison at the moment proceeds via checking equality of the data. This is not ideal, but if it happens outside of an optimisation loop it is not a big issue.\n",
    "\n",
    "(My train arrived before I got very far here, so this is not useful yet.)"
   ]
  },
  {
   "cell_type": "code",
   "execution_count": 1,
   "metadata": {},
   "outputs": [],
   "source": [
    "struct ParGradControl\n",
    "    pars::Array{Any, 1}\n",
    "    mask::Array{Bool,1}\n",
    "end"
   ]
  },
  {
   "cell_type": "code",
   "execution_count": null,
   "metadata": {},
   "outputs": [],
   "source": [
    "function param_grad_control(pars::Array{Any, 1}, specified_pars::TrackedArrayOrFloat)\n",
    "    mask = [specified_pars === p for p in pars]\n",
    "    return ParGradControl(pars, mask)\n",
    "end\n",
    "\n",
    "function param_grad_control(pars::Array{Any, 1}, specified_pars::Array)\n",
    "    mask = [[s === p for p in pars] for s in specified_pars]\n",
    "    mask = reduce((x,y)-> x .| y, mask)\n",
    "    return ParGradControl(pars, mask)\n",
    "end\n",
    "\n",
    "function set_relevant_zerograd(s::ParGradControl; verbose=False)\n",
    "    for (m, p) in zip(s.pars, s.mask)\n",
    "        m && p.grad .= 0\n",
    "    end\n",
    "end\n",
    "\n",
    "function set_relevant_zerograd(s::Array; verbose=False)\n",
    "    verbose && println(\"no ParGradControl struct\")\n",
    "end"
   ]
  }
 ],
 "metadata": {
  "kernelspec": {
   "display_name": "Julia 1.0.0",
   "language": "julia",
   "name": "julia-1.0"
  },
  "language_info": {
   "file_extension": ".jl",
   "mimetype": "application/julia",
   "name": "julia",
   "version": "1.0.0"
  }
 },
 "nbformat": 4,
 "nbformat_minor": 2
}
